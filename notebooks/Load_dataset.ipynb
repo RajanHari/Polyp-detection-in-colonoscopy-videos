{
  "nbformat": 4,
  "nbformat_minor": 0,
  "metadata": {
    "colab": {
      "name": "Load_dataset.ipynb",
      "provenance": [],
      "collapsed_sections": []
    },
    "kernelspec": {
      "name": "python3",
      "display_name": "Python 3"
    },
    "language_info": {
      "name": "python"
    }
  },
  "cells": [
    {
      "cell_type": "code",
      "execution_count": null,
      "metadata": {
        "id": "umhVbejpF_t0"
      },
      "outputs": [],
      "source": [
        "import os \n",
        "\n",
        "Train_path = ''\n",
        "folders = [os.path.join(Train_path, x) for x in ('output_5', 'output_6', 'output_7', 'output_8', 'output_9', 'output_66', 'output_68', 'output_69', 'output_70')]"
      ]
    },
    {
      "cell_type": "code",
      "source": [
        "import cv2\n",
        "\n",
        "def load_images_from_folder(folder):\n",
        "    images = []\n",
        "    for filename in os.listdir(folder):\n",
        "        img = cv2.imread(os.path.join(folder, filename))\n",
        "        if img is not None:\n",
        "          img = resize(img, (720,480))          # could throw error, have to check\n",
        "          images.append(img)\n",
        "    return images"
      ],
      "metadata": {
        "id": "2IQF8uQxGClo"
      },
      "execution_count": null,
      "outputs": []
    },
    {
      "cell_type": "code",
      "source": [
        "X_train = [img for folder in folders for img in load_images_from_folder(folder)]"
      ],
      "metadata": {
        "id": "M0DHMmrrGEpK"
      },
      "execution_count": null,
      "outputs": []
    },
    {
      "cell_type": "code",
      "source": [
        "#do eact same thing for labels (y_train)"
      ],
      "metadata": {
        "id": "x8lbeYXIGU0Y"
      },
      "execution_count": null,
      "outputs": []
    }
  ]
}