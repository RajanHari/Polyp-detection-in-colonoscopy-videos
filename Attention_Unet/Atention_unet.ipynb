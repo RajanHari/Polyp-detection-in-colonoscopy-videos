{
  "nbformat": 4,
  "nbformat_minor": 0,
  "metadata": {
    "colab": {
      "name": "Atention_unet.ipynb",
      "provenance": [],
      "collapsed_sections": []
    },
    "kernelspec": {
      "name": "python3",
      "display_name": "Python 3"
    },
    "language_info": {
      "name": "python"
    }
  },
  "cells": [
    {
      "cell_type": "markdown",
      "source": [
        "# **Dataset preparation**"
      ],
      "metadata": {
        "id": "Tgfb3xXCdab-"
      }
    },
    {
      "cell_type": "code",
      "source": [
        "!unrar x \"TrainingSet_NewGT.rar\""
      ],
      "metadata": {
        "id": "4XPMss7jk3qb"
      },
      "execution_count": null,
      "outputs": []
    },
    {
      "cell_type": "code",
      "source": [
        "ls"
      ],
      "metadata": {
        "colab": {
          "base_uri": "https://localhost:8080/"
        },
        "id": "QTUzAc_6lZBo",
        "outputId": "f7dd8510-66d5-4a6f-ad62-1001d68037da"
      },
      "execution_count": 12,
      "outputs": [
        {
          "output_type": "stream",
          "name": "stdout",
          "text": [
            "\u001b[0m\u001b[01;34mShortVD_np_10\u001b[0m/  \u001b[01;34mShortVD_np_14\u001b[0m/  \u001b[01;34mShortVD_np_8\u001b[0m/   \u001b[01;34mshortVD_wp_4\u001b[0m/   \u001b[01;34mShortVD_wp_66\u001b[0m/\n",
            "\u001b[01;34mShortVD_np_11\u001b[0m/  \u001b[01;34mShortVD_np_5\u001b[0m/   \u001b[01;34mShortVD_np_9\u001b[0m/   \u001b[01;34mShortVD_wp_49\u001b[0m/  \u001b[01;34mShortVD_wp_68\u001b[0m/\n",
            "\u001b[01;34mShortVD_np_12\u001b[0m/  \u001b[01;34mShortVD_np_6\u001b[0m/   \u001b[01;34mShortVD_wp_2\u001b[0m/   \u001b[01;34mShortVD_wp_52\u001b[0m/  \u001b[01;34mShortVD_wp_69\u001b[0m/\n",
            "\u001b[01;34mShortVD_np_13\u001b[0m/  \u001b[01;34mShortVD_np_7\u001b[0m/   \u001b[01;34mShortVD_wp_24\u001b[0m/  \u001b[01;34mShortVD_wp_61\u001b[0m/  \u001b[01;34mShortVD_wp_70\u001b[0m/\n"
          ]
        }
      ]
    },
    {
      "cell_type": "code",
      "source": [
        ""
      ],
      "metadata": {
        "id": "h6Kj6H6mlfEU"
      },
      "execution_count": null,
      "outputs": []
    },
    {
      "cell_type": "code",
      "source": [
        "import os \n",
        "\n",
        "Train_path = 'TrainingSet_NewGT/'\n",
        "Test_path = 'TrainingSet_NewGT/'"
      ],
      "metadata": {
        "id": "A-w9RL7rdYvw"
      },
      "execution_count": null,
      "outputs": []
    },
    {
      "cell_type": "code",
      "source": [
        ""
      ],
      "metadata": {
        "id": "pprsWXEndZu-"
      },
      "execution_count": null,
      "outputs": []
    },
    {
      "cell_type": "code",
      "source": [
        ""
      ],
      "metadata": {
        "id": "FK4wKdu7dZ4v"
      },
      "execution_count": null,
      "outputs": []
    },
    {
      "cell_type": "markdown",
      "source": [
        "# **Import**"
      ],
      "metadata": {
        "id": "WnTReV6NdgIC"
      }
    },
    {
      "cell_type": "code",
      "execution_count": 2,
      "metadata": {
        "colab": {
          "base_uri": "https://localhost:8080/"
        },
        "id": "bBZZ5n8JWLp-",
        "outputId": "051dff2d-a920-4fcd-afc3-67ed426241b1"
      },
      "outputs": [
        {
          "output_type": "stream",
          "name": "stdout",
          "text": [
            "Collecting keras-unet-collection\n",
            "  Downloading keras_unet_collection-0.1.13-py3-none-any.whl (67 kB)\n",
            "\u001b[?25l\r\u001b[K     |████▉                           | 10 kB 21.0 MB/s eta 0:00:01\r\u001b[K     |█████████▋                      | 20 kB 15.4 MB/s eta 0:00:01\r\u001b[K     |██████████████▌                 | 30 kB 11.0 MB/s eta 0:00:01\r\u001b[K     |███████████████████▎            | 40 kB 9.4 MB/s eta 0:00:01\r\u001b[K     |████████████████████████▏       | 51 kB 4.7 MB/s eta 0:00:01\r\u001b[K     |█████████████████████████████   | 61 kB 5.5 MB/s eta 0:00:01\r\u001b[K     |████████████████████████████████| 67 kB 3.0 MB/s \n",
            "\u001b[?25hInstalling collected packages: keras-unet-collection\n",
            "Successfully installed keras-unet-collection-0.1.13\n"
          ]
        }
      ],
      "source": [
        "!pip install keras-unet-collection"
      ]
    },
    {
      "cell_type": "code",
      "source": [
        "from keras_unet_collection import models"
      ],
      "metadata": {
        "id": "bwnI2YNDWtYY"
      },
      "execution_count": 3,
      "outputs": []
    },
    {
      "cell_type": "code",
      "source": [
        "help(models.att_unet_2d)"
      ],
      "metadata": {
        "id": "9giUpzMgX2Bp"
      },
      "execution_count": null,
      "outputs": []
    },
    {
      "cell_type": "markdown",
      "source": [
        "# **Attention Unet model**"
      ],
      "metadata": {
        "id": "c_HSTo-KdR-h"
      }
    },
    {
      "cell_type": "code",
      "source": [
        "att_unet_model = models.att_unet_2d((128, 128, 3), filter_num=[64, 128, 256, 512, 1024], n_labels=2, \n",
        "                           stack_num_down=2, stack_num_up=2, activation='ReLU', \n",
        "                           atten_activation='ReLU', attention='add', output_activation='Sigmoid', \n",
        "                           batch_norm=True, pool=False, unpool=False, \n",
        "                           backbone='VGG16', weights='imagenet', \n",
        "                           freeze_backbone=True, freeze_batch_norm=True, \n",
        "                           name='attunet')"
      ],
      "metadata": {
        "colab": {
          "base_uri": "https://localhost:8080/"
        },
        "id": "kwx6FLD2X4GP",
        "outputId": "7b47c1bc-54cb-4a21-a1d0-f38f80aa1795"
      },
      "execution_count": 7,
      "outputs": [
        {
          "output_type": "stream",
          "name": "stderr",
          "text": [
            "/usr/local/lib/python3.7/dist-packages/keras_unet_collection/_backbone_zoo.py:45: UserWarning: \n",
            "\n",
            "Backbone VGG16 does not use batch norm, but other layers received batch_norm=True\n",
            "  warnings.warn(param_mismatch);\n"
          ]
        },
        {
          "output_type": "stream",
          "name": "stdout",
          "text": [
            "Downloading data from https://storage.googleapis.com/tensorflow/keras-applications/vgg16/vgg16_weights_tf_dim_ordering_tf_kernels_notop.h5\n",
            "58892288/58889256 [==============================] - 0s 0us/step\n",
            "58900480/58889256 [==============================] - 0s 0us/step\n"
          ]
        }
      ]
    },
    {
      "cell_type": "code",
      "source": [
        "att_unet_model.layers[1].name"
      ],
      "metadata": {
        "colab": {
          "base_uri": "https://localhost:8080/",
          "height": 35
        },
        "id": "s_AGIgXjY1Lo",
        "outputId": "78271524-b6a9-41ed-d477-bc2b63533e48"
      },
      "execution_count": 8,
      "outputs": [
        {
          "output_type": "execute_result",
          "data": {
            "text/plain": [
              "'VGG16_backbone'"
            ],
            "application/vnd.google.colaboratory.intrinsic+json": {
              "type": "string"
            }
          },
          "metadata": {},
          "execution_count": 8
        }
      ]
    },
    {
      "cell_type": "code",
      "source": [
        "import numpy as np\n",
        "from tensorflow import keras"
      ],
      "metadata": {
        "id": "TX3240ITY-fF"
      },
      "execution_count": 6,
      "outputs": []
    },
    {
      "cell_type": "code",
      "source": [
        "att_unet_model.compile(loss=keras.losses.binary_crossentropy, optimizer=keras.optimizers.Adam(lr=1e-3), metrics = ['accuracy'])"
      ],
      "metadata": {
        "id": "OHPuBA2_Y1vC"
      },
      "execution_count": null,
      "outputs": []
    },
    {
      "cell_type": "code",
      "source": [
        "print(att_unet_model.summary())"
      ],
      "metadata": {
        "id": "t3oJFCcHbIGf"
      },
      "execution_count": null,
      "outputs": []
    },
    {
      "cell_type": "code",
      "source": [
        "import datetime\n",
        "start1 = datetime.now()"
      ],
      "metadata": {
        "id": "nkqWOsLJbNRw"
      },
      "execution_count": null,
      "outputs": []
    },
    {
      "cell_type": "code",
      "source": [
        "#callbacks\n",
        "\n",
        "callback = tf.keras.callbacks.EarlyStopping(monitor = 'val_accuracy', patience = 4)"
      ],
      "metadata": {
        "id": "JuMW5c8pf5g2"
      },
      "execution_count": null,
      "outputs": []
    },
    {
      "cell_type": "code",
      "source": [
        "hist = att_unet_model.fit(X_train, y_train, verbose = 1, batch_size= 256, \n",
        "                          shuffle = False, epochs=40, validation_split = 0.15, callbacks = [callback])\n"
      ],
      "metadata": {
        "id": "wCMqDeuvbVLZ"
      },
      "execution_count": null,
      "outputs": []
    },
    {
      "cell_type": "code",
      "source": [
        "stop1 = datetime.now()"
      ],
      "metadata": {
        "id": "cZRz-eEwbxs1"
      },
      "execution_count": null,
      "outputs": []
    },
    {
      "cell_type": "code",
      "source": [
        "execution_time = stop1-start1"
      ],
      "metadata": {
        "id": "zUELRUwWcnSG"
      },
      "execution_count": null,
      "outputs": []
    },
    {
      "cell_type": "code",
      "source": [
        "att_unet_model.save(\"Colonoscopy_Attention_UNet.hdf5\")"
      ],
      "metadata": {
        "id": "SRB1bg2actno"
      },
      "execution_count": null,
      "outputs": []
    },
    {
      "cell_type": "markdown",
      "source": [
        "# Plots and Visualizations "
      ],
      "metadata": {
        "id": "sxqgpDlRdAqx"
      }
    }
  ]
}